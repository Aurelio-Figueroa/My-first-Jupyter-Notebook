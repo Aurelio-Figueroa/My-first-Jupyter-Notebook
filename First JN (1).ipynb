{
  "metadata": {
    "kernelspec": {
      "name": "python",
      "display_name": "Python (Pyodide)",
      "language": "python"
    },
    "language_info": {
      "codemirror_mode": {
        "name": "python",
        "version": 3
      },
      "file_extension": ".py",
      "mimetype": "text/x-python",
      "name": "python",
      "nbconvert_exporter": "python",
      "pygments_lexer": "ipython3",
      "version": "3.8"
    }
  },
  "nbformat_minor": 4,
  "nbformat": 4,
  "cells": [
    {
      "cell_type": "markdown",
      "source": "# My first Notebook on JupyTer #",
      "metadata": {
        "tags": [],
        "editable": true,
        "slideshow": {
          "slide_type": ""
        }
      }
    },
    {
      "cell_type": "markdown",
      "source": "## In this project there will be some text displayed as lists, as well as some fundamental coding to start learning this beautiful and extense world of Data Science. I appreciate your attention. ##",
      "metadata": {
        "tags": [],
        "editable": true,
        "slideshow": {
          "slide_type": ""
        }
      }
    },
    {
      "cell_type": "markdown",
      "source": "# Data Science Languages\n* Python\n* R\n* SQL\n* Julia \n* SAS\nAmong many others.",
      "metadata": {
        "tags": [],
        "editable": true,
        "slideshow": {
          "slide_type": ""
        },
        "jp-MarkdownHeadingCollapsed": true
      }
    },
    {
      "cell_type": "markdown",
      "source": "# Data Science Libraries\n\nPython\n* Pandas\n*NumPy\n* Matplotlib\n* Seaborn\n* SciPy\n* Scikit-learn\n*TensorFlow\n* Keras\n*Pytorch\n\nR\n* ggplot2\n* dplyr\n* tidyr\n* caret",
      "metadata": {
        "tags": [],
        "editable": true,
        "slideshow": {
          "slide_type": ""
        }
      }
    },
    {
      "cell_type": "markdown",
      "source": "# Adding a table about Data Science Tools\n|        CATEGORY       |      TOOLS         | \n| --------------------- | ------------------ |\n| PROGRAMMING LANGUAGES | PYTHON, SQL, R     | \n| DATA MANIPULATION     | PANDAS, DPLYR      |\n| VISUALIZATION         | MATPLOTLIB, TABLEAU| \n| MACHINE LEARNING      | SCIKIT-LEARN, CARET|",
      "metadata": {}
    },
    {
      "cell_type": "code",
      "source": "# Aritmetic expression examples\n\n3*4+5+10",
      "metadata": {
        "trusted": true,
        "scrolled": true
      },
      "outputs": [
        {
          "execution_count": 13,
          "output_type": "execute_result",
          "data": {
            "text/plain": "27"
          },
          "metadata": {}
        }
      ],
      "execution_count": 13
    },
    {
      "cell_type": "code",
      "source": "# Multiplying numbers\na=4\nb=10\na*b",
      "metadata": {
        "trusted": true,
        "scrolled": true
      },
      "outputs": [
        {
          "execution_count": 14,
          "output_type": "execute_result",
          "data": {
            "text/plain": "40"
          },
          "metadata": {}
        }
      ],
      "execution_count": 14
    },
    {
      "cell_type": "code",
      "source": "# Adding\na=5\nb=7\na+b",
      "metadata": {
        "trusted": true,
        "scrolled": true
      },
      "outputs": [
        {
          "execution_count": 15,
          "output_type": "execute_result",
          "data": {
            "text/plain": "12"
          },
          "metadata": {}
        }
      ],
      "execution_count": 15
    },
    {
      "cell_type": "code",
      "source": "# Minutes to hours\nminutes = 180\nhours = minutes / 60\nprint(hours)",
      "metadata": {
        "trusted": true,
        "scrolled": true
      },
      "outputs": [
        {
          "name": "stdout",
          "text": "3.0\n",
          "output_type": "stream"
        }
      ],
      "execution_count": 16
    },
    {
      "cell_type": "markdown",
      "source": "# Objectives\n- Learning the basics of creating a Jupyter Notebook\n- Understanding the interface\n- How to code in a Jupyter Notebook through basic arithmetic operations\n- How to share it widely through Github.",
      "metadata": {
        "jp-MarkdownHeadingCollapsed": true
      }
    },
    {
      "cell_type": "markdown",
      "source": "# Author´s name\nAurelio Isaac Figueroa",
      "metadata": {
        "jp-MarkdownHeadingCollapsed": true
      }
    }
  ]
}