{
  "metadata": {
    "kernelspec": {
      "name": "python",
      "display_name": "Python (Pyodide)",
      "language": "python"
    },
    "language_info": {
      "name": ""
    }
  },
  "nbformat_minor": 4,
  "nbformat": 4,
  "cells": [
    {
      "cell_type": "markdown",
      "source": "# My first Notebook on JupyTer #",
      "metadata": {
        "tags": [],
        "editable": true,
        "slideshow": {
          "slide_type": ""
        }
      }
    },
    {
      "cell_type": "markdown",
      "source": "## In this project there will be some text displayed as lists, as well as some fundamental coding to start learning this beautiful and extense world of Data Science. I appreciate your attention. ##",
      "metadata": {
        "tags": [],
        "editable": true,
        "slideshow": {
          "slide_type": ""
        }
      }
    },
    {
      "cell_type": "markdown",
      "source": "# Data Science Languages\n* Python\n* R\n* SQL\n* Julia \n* SAS\nAmong many others.",
      "metadata": {
        "tags": [],
        "editable": true,
        "slideshow": {
          "slide_type": ""
        }
      }
    },
    {
      "cell_type": "markdown",
      "source": "# Data Science Libraries\n\nPython\n* Pandas\n*NumPy\n* Matplotlib\n* Seaborn\n* SciPy\n* Scikit-learn\n*TensorFlow\n* Keras\n*Pytorch\n\nR\n* ggplot2\n* dplyr\n* tidyr\n* caret",
      "metadata": {
        "tags": [],
        "editable": true,
        "slideshow": {
          "slide_type": ""
        }
      }
    },
    {
      "cell_type": "markdown",
      "source": "# Adding a table about Data Science Tools\n|        CATEGORY       |      TOOLS         | \n| --------------------- | ------------------ |\n| PROGRAMMING LANGUAGES | PYTHON, SQL, R     | \n| DATA MANIPULATION     | PANDAS, DPLYR      |\n| VISUALIZATION         | MATPLOTLIB, TABLEAU| \n| MACHINE LEARNING      | SCIKIT-LEARN, CARET|",
      "metadata": {}
    },
    {
      "cell_type": "code",
      "source": "# Multiplying and adding\n5*4\n15*5\n\n5+4\n15+5",
      "metadata": {
        "trusted": true
      },
      "outputs": [],
      "execution_count": null
    },
    {
      "cell_type": "code",
      "source": "# Minutes to hours\nMinutes = 180\nHours = Minutes/60",
      "metadata": {
        "trusted": true
      },
      "outputs": [],
      "execution_count": null
    },
    {
      "cell_type": "markdown",
      "source": "# Objectives\nLearning the basics of creating a Jupyter Notebook, its interface, as well as how to share it widely through Github",
      "metadata": {}
    },
    {
      "cell_type": "markdown",
      "source": "# Author´s name\nAurelio Isaac Figueroa",
      "metadata": {}
    }
  ]
}